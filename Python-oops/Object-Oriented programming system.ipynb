{
 "metadata": {
  "language_info": {
   "codemirror_mode": {
    "name": "ipython",
    "version": 3
   },
   "file_extension": ".py",
   "mimetype": "text/x-python",
   "name": "python",
   "nbconvert_exporter": "python",
   "pygments_lexer": "ipython3",
   "version": "3.8.4-final"
  },
  "orig_nbformat": 2,
  "kernelspec": {
   "name": "python3",
   "display_name": "Python 3"
  }
 },
 "nbformat": 4,
 "nbformat_minor": 2,
 "cells": [
  {
   "cell_type": "code",
   "execution_count": 35,
   "metadata": {},
   "outputs": [
    {
     "output_type": "stream",
     "name": "stdout",
     "text": [
      "Hello World\n"
     ]
    }
   ],
   "source": [
    "print('Hello World')"
   ]
  },
  {
   "source": [
    "# class(Samsung TV model)\n",
    "- Design/specification/template/blueprint/model\n",
    "- represent data members & behaviours of object\n",
    "- attributes & behaviors of an object"
   ],
   "cell_type": "markdown",
   "metadata": {}
  },
  {
   "source": [
    "# Object(TVs)\n",
    "- each physical existence of a class is an object\n",
    "- instance of a class\n",
    "- any number objects can be created from a class"
   ],
   "cell_type": "markdown",
   "metadata": {}
  },
  {
   "source": [
    "# reference variable(TV remote) \n",
    "- used to perform operations on objects\n",
    "- an object can have many number of ref var(any remote of the same model tv can be used to perform operations on the tv)\n",
    "- object without ref varS are useless - straight into grabage collection"
   ],
   "cell_type": "markdown",
   "metadata": {}
  },
  {
   "source": [
    "# how to define a Class\n",
    "```python\n",
    "class classname:\n",
    "    '''doc string - description of the class'''\n",
    "    variables --> propertie/ attributes\n",
    "    methods   --> actions/ behaviors\n",
    " print(student.__doc__)\n",
    " help(student)\n",
    " ```"
   ],
   "cell_type": "markdown",
   "metadata": {}
  },
  {
   "cell_type": "code",
   "execution_count": 29,
   "metadata": {},
   "outputs": [
    {
     "output_type": "stream",
     "name": "stdout",
     "text": [
      "Help on class studnet in module __main__:\n\nclass studnet(builtins.object)\n |  This class is for demo puropose\n |  \n |  Data descriptors defined here:\n |  \n |  __dict__\n |      dictionary for instance variables (if defined)\n |  \n |  __weakref__\n |      list of weak references to the object (if defined)\n\n"
     ]
    }
   ],
   "source": [
    "class studnet:\n",
    "    '''This class is for demo puropose'''\n",
    "help(studnet)#prints the doc str of the class"
   ]
  },
  {
   "source": [
    "# variables allowed in the class\n",
    "- instance variables(object level)\n",
    "- local variables(method level variables)\n",
    "- static variables(class level)"
   ],
   "cell_type": "markdown",
   "metadata": {}
  },
  {
   "source": [
    "# Methods allowed in the class\n",
    "## 3 types \n",
    "- instance methods\n",
    "- class methods\n",
    "- static method"
   ],
   "cell_type": "markdown",
   "metadata": {}
  },
  {
   "cell_type": "code",
   "execution_count": 30,
   "metadata": {},
   "outputs": [
    {
     "output_type": "stream",
     "name": "stdout",
     "text": [
      "shan\n9090909090\n20\nHello my name is:  shan\nMy phone number is:  9090909090\nMy age is:  20\n"
     ]
    }
   ],
   "source": [
    "#Func which is defined inside a class are called as methods\n",
    "#example_1\n",
    "class student:#class creation\n",
    "    ''' student class'''\n",
    "    def __init__(self):#class method1\n",
    "        #__init__ is constructor, special method\n",
    "        #defining variables\n",
    "        self.name = 'shan'\n",
    "        self.phone = 9090909090\n",
    "        self.age = 20\n",
    "    def printing(self):#class method2\n",
    "        print('Hello my name is: ', self.name)\n",
    "        print('My phone number is: ', self.phone)\n",
    "        print('My age is: ', self.age)\n",
    "#creating an object\n",
    "ref_var=student()\n",
    "#to access an object(properties) we need ref variable\n",
    "print(ref_var.name)\n",
    "print(ref_var.phone)\n",
    "print(ref_var.age)\n",
    "#using ref var we can call methods also\n",
    "ref_var.printing()"
   ]
  },
  {
   "cell_type": "code",
   "execution_count": 31,
   "metadata": {},
   "outputs": [
    {
     "output_type": "stream",
     "name": "stdout",
     "text": [
      "Hello my name is:  x\nMy phone number is:  90909\nMy age is:  20\n\n\nHello my name is:  y\nMy phone number is:  80808\nMy age is:  21\n\n\nHello my name is:  z\nMy phone number is:  70707\nMy age is:  22\n\n\n"
     ]
    }
   ],
   "source": [
    "#example_2\n",
    "#for every student name, phone, age vary\n",
    "class student():\n",
    "    '''for many objects'''\n",
    "    def __init__(self, name, phone, age):\n",
    "        self.name = name\n",
    "        self.phone = phone\n",
    "        self.age = age\n",
    "    def printing(self):\n",
    "        print('Hello my name is: ', self.name)\n",
    "        print('My phone number is: ', self.phone)\n",
    "        print('My age is: ', self.age)\n",
    "        print('\\n')\n",
    "\n",
    "#creating objects and assigning em to a ref var\n",
    "s1=student('x', 90909, 20)\n",
    "s2=student('y', 80808, 21)\n",
    "s3=student('z', 70707, 22)\n",
    "#accessing the methods using ref var\n",
    "s1.printing()\n",
    "s2.printing()\n",
    "s3.printing()"
   ]
  },
  {
   "source": [
    "## what is self(most commonly used variable)\n",
    "### Self    \n",
    "- a ref variable, always points to current object\n",
    "- we use it to refer the current object\n",
    "- we need to access the created objects s1, s2, s3 which are outside of the class, to access those objects we need ref variable(self) which is also pointing to the same object we created"
   ],
   "cell_type": "markdown",
   "metadata": {}
  },
  {
   "cell_type": "code",
   "execution_count": 32,
   "metadata": {},
   "outputs": [
    {
     "output_type": "stream",
     "name": "stdout",
     "text": [
      "self address: 2610220501696\ns1 address: 2610220501696\nself address: 2610220499200\ns2 address: 2610220499200\n"
     ]
    }
   ],
   "source": [
    "class test:\n",
    "    def __init__(self):\n",
    "        print(f'self address: {id(self)}')\n",
    "s1=test()\n",
    "print(f's1 address: {id(s1)}')\n",
    "s2=test()\n",
    "print(f's2 address: {id(s2)}')"
   ]
  }
 ]
}