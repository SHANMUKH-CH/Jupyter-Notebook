{
 "metadata": {
  "language_info": {
   "codemirror_mode": {
    "name": "ipython",
    "version": 3
   },
   "file_extension": ".py",
   "mimetype": "text/x-python",
   "name": "python",
   "nbconvert_exporter": "python",
   "pygments_lexer": "ipython3",
   "version": "3.8.4-final"
  },
  "orig_nbformat": 2,
  "kernelspec": {
   "name": "python3",
   "display_name": "Python 3"
  }
 },
 "nbformat": 4,
 "nbformat_minor": 2,
 "cells": [
  {
   "cell_type": "code",
   "execution_count": 129,
   "metadata": {},
   "outputs": [
    {
     "output_type": "stream",
     "name": "stdout",
     "text": [
      "Hello World\n"
     ]
    }
   ],
   "source": [
    "print('Hello World')"
   ]
  },
  {
   "source": [
    "# class(Samsung TV model)\n",
    "- Design/specification/template/blueprint/model\n",
    "- represent data members & behaviours of object\n",
    "- attributes & behaviors of an object"
   ],
   "cell_type": "markdown",
   "metadata": {}
  },
  {
   "source": [
    "# Object(TVs)\n",
    "- each physical existence of a class is an object\n",
    "- instance of a class\n",
    "- any number objects can be created from a class"
   ],
   "cell_type": "markdown",
   "metadata": {}
  },
  {
   "source": [
    "# reference variable(TV remote) \n",
    "- used to perform operations on objects\n",
    "- an object can have many number of ref var(any remote of the same model tv can be used to perform operations on the tv)\n",
    "- object without ref varS are useless - straight into grabage collection"
   ],
   "cell_type": "markdown",
   "metadata": {}
  },
  {
   "source": [
    "# how to define a Class\n",
    "```python\n",
    "class classname:\n",
    "    '''doc string - description of the class'''\n",
    "    variables --> propertie/ attributes\n",
    "    methods   --> actions/ behaviors\n",
    " print(student.__doc__)\n",
    " help(student)\n",
    " ```"
   ],
   "cell_type": "markdown",
   "metadata": {}
  },
  {
   "cell_type": "code",
   "execution_count": 130,
   "metadata": {},
   "outputs": [
    {
     "output_type": "stream",
     "name": "stdout",
     "text": [
      "Help on class studnet in module __main__:\n\nclass studnet(builtins.object)\n |  This class is for demo puropose\n |  \n |  Data descriptors defined here:\n |  \n |  __dict__\n |      dictionary for instance variables (if defined)\n |  \n |  __weakref__\n |      list of weak references to the object (if defined)\n\n"
     ]
    }
   ],
   "source": [
    "class studnet:\n",
    "    '''This class is for demo puropose'''\n",
    "help(studnet)#prints the doc str of the class"
   ]
  },
  {
   "source": [
    "# variables allowed in the class\n",
    "- instance variables(object level)\n",
    "- local variables(method level variables)\n",
    "- static variables(class level)"
   ],
   "cell_type": "markdown",
   "metadata": {}
  },
  {
   "source": [
    "# Methods allowed in the class\n",
    "## 3 types \n",
    "- instance methods\n",
    "- class methods\n",
    "- static method"
   ],
   "cell_type": "markdown",
   "metadata": {}
  },
  {
   "cell_type": "code",
   "execution_count": 131,
   "metadata": {},
   "outputs": [
    {
     "output_type": "stream",
     "name": "stdout",
     "text": [
      "shan\n9090909090\n20\nHello my name is:  shan\nMy phone number is:  9090909090\nMy age is:  20\n"
     ]
    }
   ],
   "source": [
    "#Func which is defined inside a class are called as methods\n",
    "#example1\n",
    "class student:#class creation\n",
    "    ''' student class'''\n",
    "    def __init__(self):#class method1\n",
    "        #__init__ is constructor, special method\n",
    "        #defining variables\n",
    "        self.name = 'shan'\n",
    "        self.phone = 9090909090\n",
    "        self.age = 20\n",
    "    def printing(self):#class method2\n",
    "        print('Hello my name is: ', self.name)\n",
    "        print('My phone number is: ', self.phone)\n",
    "        print('My age is: ', self.age)\n",
    "#creating an object\n",
    "ref_var=student()\n",
    "#to access an object(properties) we need ref variable\n",
    "print(ref_var.name)\n",
    "print(ref_var.phone)\n",
    "print(ref_var.age)\n",
    "#using ref var we can call methods also\n",
    "ref_var.printing()"
   ]
  },
  {
   "cell_type": "code",
   "execution_count": 132,
   "metadata": {},
   "outputs": [
    {
     "output_type": "stream",
     "name": "stdout",
     "text": [
      "Hello my name is:  x\nMy phone number is:  90909\nMy age is:  20\n\n\nHello my name is:  y\nMy phone number is:  80808\nMy age is:  21\n\n\nHello my name is:  z\nMy phone number is:  70707\nMy age is:  22\n\n\n"
     ]
    }
   ],
   "source": [
    "#example_2\n",
    "#for every student name, phone, age vary\n",
    "class student():\n",
    "    '''for many objects'''\n",
    "    def __init__(self, name, phone, age):\n",
    "        self.name = name\n",
    "        self.phone = phone\n",
    "        self.age = age\n",
    "    def printing(self):\n",
    "        print('Hello my name is: ', self.name)\n",
    "        print('My phone number is: ', self.phone)\n",
    "        print('My age is: ', self.age)\n",
    "        print('\\n')\n",
    "\n",
    "#creating objects and assigning em to a ref var\n",
    "s1=student('x', 90909, 20)\n",
    "s2=student('y', 80808, 21)\n",
    "s3=student('z', 70707, 22)\n",
    "#accessing the methods using ref var\n",
    "s1.printing()\n",
    "s2.printing()\n",
    "s3.printing()"
   ]
  },
  {
   "source": [
    "# Self\n",
    "## 1st argument for the consrtuctor and instance method\n",
    "## we can use any name instead of self\n",
    "## self cant be accessible out of the class \n",
    "## what is self(most commonly used variable)\n",
    "- a ref variable, always points to current object\n",
    "- we use it to refer the current object\n",
    "- we need to access the created objects s1, s2, s3 which are outside of the class, to access those objects we need ref variable(self) which is also pointing to the same object we created"
   ],
   "cell_type": "markdown",
   "metadata": {}
  },
  {
   "cell_type": "code",
   "execution_count": 133,
   "metadata": {},
   "outputs": [
    {
     "output_type": "stream",
     "name": "stdout",
     "text": [
      "self address: 2610221863744\ns1 address: 2610221863744\nself address: 2610221866480\ns2 address: 2610221866480\n"
     ]
    }
   ],
   "source": [
    "class test:\n",
    "    def __init__(self):\n",
    "        print(f'self address: {id(self)}')\n",
    "s1=test()\n",
    "print(f's1 address: {id(s1)}')\n",
    "s2=test()\n",
    "print(f's2 address: {id(s2)}')"
   ]
  },
  {
   "source": [
    "# Pvm sets the value to self\n",
    "# To declare instance variable we use self\n",
    "# To access the values of instance variable we use self "
   ],
   "cell_type": "markdown",
   "metadata": {}
  },
  {
   "cell_type": "code",
   "execution_count": 134,
   "metadata": {},
   "outputs": [
    {
     "output_type": "stream",
     "name": "stdout",
     "text": [
      "Hi i`m self, you dont need to set any value for me, PVM takes care of me xD\nx value is 10\n"
     ]
    }
   ],
   "source": [
    "# self example 2\n",
    "class test:\n",
    "    # 1st arg to the constructor is always self\n",
    "    def __init__(self):\n",
    "        print('Hi i`m self, you dont need to set any value for me, PVM takes care of me xD')\n",
    "    # 1st arg to the instance method is always self\n",
    "    def m1(self, x):\n",
    "        print(f'x value is {x}')\n",
    "# when obj is created automatically constructor will be called\n",
    "t = test()\n",
    "t.m1(10)"
   ]
  },
  {
   "source": [
    "# self conclusion\n",
    "- To refer to current object we need a variable, self.\n",
    "- self is ref var always points to curr obj.\n",
    "- 1st arg to constructor & instance method is self.\n",
    "- PVM sets the value to self.\n",
    "- To declare and to access the values of instance var.\n",
    "- self is not a keyword, we can name our own name.\n",
    "- we cant access self var outside of the class."
   ],
   "cell_type": "markdown",
   "metadata": {}
  },
  {
   "source": [
    "# Constructor\n",
    "- To delcare and initialize instance vars Constructor is needed\n",
    "## Special method in python\n",
    "# \\__init__\n",
    "- when creating an object, Constructor is executed \n",
    "- executed only ones for every object"
   ],
   "cell_type": "markdown",
   "metadata": {}
  },
  {
   "cell_type": "code",
   "execution_count": 135,
   "metadata": {},
   "outputs": [
    {
     "output_type": "stream",
     "name": "stdout",
     "text": [
      "constructor execution\n"
     ]
    }
   ],
   "source": [
    "class TestC:\n",
    "    def __init__(self):\n",
    "        print('constructor execution')\n",
    "x=TestC()\n",
    "#executes only once"
   ]
  },
  {
   "cell_type": "code",
   "execution_count": 136,
   "metadata": {},
   "outputs": [
    {
     "output_type": "stream",
     "name": "stdout",
     "text": [
      "My job is to delcare and initialize the instance vars\nlambo 1\n\n\nMy job is to delcare and initialize the instance vars\nmaserati 2\n"
     ]
    }
   ],
   "source": [
    "#To delcare and initialize instance vars Constructor is needed\n",
    "class cars:\n",
    "    def __init__(self, company, ranks):\n",
    "        print('My job is to delcare and initialize the instance vars')\n",
    "        self.company = company\n",
    "        self.ranks = ranks\n",
    "car1=cars('lambo', 1)\n",
    "print(car1.company, car1.ranks)\n",
    "print('\\n')\n",
    "car2=cars('maserati', 2)\n",
    "print(car2.company, car2.ranks)"
   ]
  },
  {
   "source": [
    "## Constructor is always optional\n",
    "## python provides a default constructor for syntactical purpose"
   ],
   "cell_type": "markdown",
   "metadata": {}
  },
  {
   "cell_type": "code",
   "execution_count": 137,
   "metadata": {},
   "outputs": [
    {
     "output_type": "stream",
     "name": "stdout",
     "text": [
      "1st method\n"
     ]
    }
   ],
   "source": [
    "class t:\n",
    "    def m1(self):\n",
    "        print('1st method')\n",
    "t1=t()\n",
    "t1.m1()"
   ]
  },
  {
   "cell_type": "code",
   "execution_count": 139,
   "metadata": {},
   "outputs": [
    {
     "output_type": "stream",
     "name": "stdout",
     "text": [
      "I`m a constructor and also a method \n\nI`m a constructor and also a method \n\nI`m a constructor and also a method \n\n"
     ]
    }
   ],
   "source": [
    "class co:\n",
    "    def __init__(self):\n",
    "        #can call as normal method also\n",
    "        print('I`m a constructor and also a method \\n')\n",
    "#1 obj created\n",
    "t=co()\n",
    "#calling by method\n",
    "t.__init__()\n",
    "#calling by method\n",
    "t.__init__()"
   ]
  },
  {
   "source": [
    "## If 2 methods have same name; recently created method will be executed.\n",
    "### method overloading is not there in python"
   ],
   "cell_type": "markdown",
   "metadata": {}
  },
  {
   "cell_type": "code",
   "execution_count": 141,
   "metadata": {},
   "outputs": [
    {
     "output_type": "error",
     "ename": "TypeError",
     "evalue": "__init__() missing 1 required positional argument: 'x'",
     "traceback": [
      "\u001b[1;31m---------------------------------------------------------------------------\u001b[0m",
      "\u001b[1;31mTypeError\u001b[0m                                 Traceback (most recent call last)",
      "\u001b[1;32m<ipython-input-141-4372d8967c70>\u001b[0m in \u001b[0;36m<module>\u001b[1;34m\u001b[0m\n\u001b[0;32m      4\u001b[0m     \u001b[1;32mdef\u001b[0m \u001b[0m__init__\u001b[0m\u001b[1;33m(\u001b[0m\u001b[0mself\u001b[0m\u001b[1;33m,\u001b[0m \u001b[0mx\u001b[0m\u001b[1;33m)\u001b[0m\u001b[1;33m:\u001b[0m\u001b[1;33m\u001b[0m\u001b[1;33m\u001b[0m\u001b[0m\n\u001b[0;32m      5\u001b[0m         \u001b[0mprint\u001b[0m\u001b[1;33m(\u001b[0m\u001b[1;34mf'yo! pass the {x}'\u001b[0m\u001b[1;33m)\u001b[0m\u001b[1;33m\u001b[0m\u001b[1;33m\u001b[0m\u001b[0m\n\u001b[1;32m----> 6\u001b[1;33m \u001b[0mO1\u001b[0m\u001b[1;33m=\u001b[0m\u001b[0mpp\u001b[0m\u001b[1;33m(\u001b[0m\u001b[1;33m)\u001b[0m\u001b[1;33m\u001b[0m\u001b[1;33m\u001b[0m\u001b[0m\n\u001b[0m\u001b[0;32m      7\u001b[0m \u001b[0mO2\u001b[0m\u001b[1;33m=\u001b[0m\u001b[0mpp\u001b[0m\u001b[1;33m(\u001b[0m\u001b[1;34m'salt'\u001b[0m\u001b[1;33m)\u001b[0m\u001b[1;33m\u001b[0m\u001b[1;33m\u001b[0m\u001b[0m\n",
      "\u001b[1;31mTypeError\u001b[0m: __init__() missing 1 required positional argument: 'x'"
     ]
    }
   ],
   "source": [
    "class pp:\n",
    "    def __init__(self):\n",
    "        print('yo!')\n",
    "    def __init__(self, x):\n",
    "        print(f'yo! pass the {x}')\n",
    "O1=pp()\n",
    "O2=pp('salt')"
   ]
  },
  {
   "cell_type": "code",
   "execution_count": 142,
   "metadata": {},
   "outputs": [
    {
     "output_type": "stream",
     "name": "stdout",
     "text": [
      "yo! pass the salt\n"
     ]
    }
   ],
   "source": [
    "class pp:\n",
    "    def __init__(self):\n",
    "        print('yo!')\n",
    "    def __init__(self, x):\n",
    "        print(f'yo! pass the {x}')\n",
    "#O1=pp()\n",
    "O2=pp('salt')"
   ]
  },
  {
   "source": [
    "# Construction Conclusion\n",
    "- special method\n",
    "- \\__init__ fixed name\n",
    "- no need to call explicitly, its all automatic yo! but we can call it if we want\n",
    "- 1 execution per obj\n",
    "- born to declare & initialize instance vars\n",
    "- takes atleast one arg\n",
    "- its optional to create Constructor, python has it own default Constructor\n",
    "- we cant define mutiple Constructors, if we do, last Constructor will be executed"
   ],
   "cell_type": "markdown",
   "metadata": {}
  }
 ]
}