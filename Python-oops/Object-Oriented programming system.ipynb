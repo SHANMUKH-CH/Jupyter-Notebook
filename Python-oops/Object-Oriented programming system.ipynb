{
 "metadata": {
  "language_info": {
   "codemirror_mode": {
    "name": "ipython",
    "version": 3
   },
   "file_extension": ".py",
   "mimetype": "text/x-python",
   "name": "python",
   "nbconvert_exporter": "python",
   "pygments_lexer": "ipython3",
   "version": "3.8.4-final"
  },
  "orig_nbformat": 2,
  "kernelspec": {
   "name": "python3",
   "display_name": "Python 3"
  }
 },
 "nbformat": 4,
 "nbformat_minor": 2,
 "cells": [
  {
   "cell_type": "code",
   "execution_count": null,
   "metadata": {},
   "outputs": [],
   "source": [
    "print('Hello World')"
   ]
  },
  {
   "cell_type": "code",
   "execution_count": null,
   "metadata": {},
   "outputs": [],
   "source": [
    "'''\n",
    "class(Samsung TV model)\n",
    "- Design/specification/template/blueprint/model\n",
    "- represent data members & behaviours of object\n",
    "- attributes and behaviors of an object\n",
    "Object(TVs)\n",
    "- each physical existence of a class is an object\n",
    "- instance of a class\n",
    "- any number objects can be created from a class\n",
    "reference variable(TV remote) \n",
    "- used to perform operations on objects\n",
    "- an object can have many number of ref var(any remote of the same model tv can be used to perform operations on the tv)\n",
    "- object without ref varS are useless - straight into grabage collection\n",
    "'''"
   ]
  },
  {
   "cell_type": "code",
   "execution_count": null,
   "metadata": {},
   "outputs": [],
   "source": [
    "'''\n",
    "how to define a class\n",
    "class classname:\n",
    "    '''doc string - description of the class'''\n",
    "    variables --> propertie/ attributes \n",
    "    methods   --> actions/ behaviors\n",
    "print(student.__doc__)\n",
    "help(student)\n",
    "'''"
   ]
  },
  {
   "cell_type": "code",
   "execution_count": null,
   "metadata": {},
   "outputs": [],
   "source": [
    "class studnet:\n",
    "    '''This class is for demo puropose'''\n",
    "help(studnet)#prints the doc str of the class"
   ]
  },
  {
   "cell_type": "code",
   "execution_count": null,
   "metadata": {},
   "outputs": [],
   "source": [
    "'''\n",
    "variables allowed in the class\n",
    "3 types --> instance variables(object level)\n",
    "       --> local variables(method level variables)\n",
    "       --> static variables(class level)\n",
    "'''"
   ]
  },
  {
   "cell_type": "code",
   "execution_count": null,
   "metadata": {},
   "outputs": [],
   "source": [
    "'''\n",
    "Methods allowed in the class\n",
    "3 types --> instance methods\n",
    "       --> class methods\n",
    "       --> static method\n",
    "'''"
   ]
  },
  {
   "cell_type": "code",
   "execution_count": null,
   "metadata": {},
   "outputs": [],
   "source": [
    "#Func which is defined inside a class are called as methods\n",
    "#example_1\n",
    "class student:#class creation\n",
    "    ''' student class'''\n",
    "    def __init__(self):#class method1\n",
    "        #__init__ is constructor, special method\n",
    "        #defining variables\n",
    "        self.name = 'shan'\n",
    "        self.phone = 9090909090\n",
    "        self.age = 20\n",
    "    def printing(self):#class method2\n",
    "        print('Hello my name is: ', self.name)\n",
    "        print('My phone number is: ', self.phone)\n",
    "        print('My age is: ', self.age)\n",
    "#creating an object\n",
    "ref_var=student()\n",
    "#to access an object(properties) we need ref variable\n",
    "print(ref_var.name)\n",
    "print(ref_var.phone)\n",
    "print(ref_var.age)\n",
    "#using ref var we can call methods also\n",
    "ref_var.printing()"
   ]
  },
  {
   "cell_type": "code",
   "execution_count": null,
   "metadata": {},
   "outputs": [],
   "source": [
    "#example_2\n",
    "#for every student name, phone, age vary\n",
    "class student():\n",
    "    '''for many objects'''\n",
    "    def __init__(self, name, phone, age):\n",
    "        self.name = name\n",
    "        self.phone = phone\n",
    "        self.age = age\n",
    "    def printing(self):\n",
    "        print('Hello my name is: ', self.name)\n",
    "        print('My phone number is: ', self.phone)\n",
    "        print('My age is: ', self.age)\n",
    "        print('\\n')\n",
    "\n",
    "#creating objects and assigning em to a ref var\n",
    "s1=student('x', 90909, 20)\n",
    "s2=student('y', 80808, 21)\n",
    "s3=student('z', 70707, 22)\n",
    "#accessing the methods using ref var\n",
    "s1.printing()\n",
    "s2.printing()\n",
    "s3.printing()"
   ]
  },
  {
   "cell_type": "code",
   "execution_count": 21,
   "metadata": {},
   "outputs": [
    {
     "output_type": "stream",
     "name": "stdout",
     "text": [
      "self address: 2610217048480\ns1 address: 2610217048480\nself address: 2610217049872\ns2 address: 2610217049872\n"
     ]
    }
   ],
   "source": [
    "'''\n",
    "what is self(most commonly used variable)\n",
    "Self    - a ref variable, always points to current object\n",
    "        - we use it to refer the current object\n",
    "we need to access the created objects s1, s2, s3 which are outside of the class, to access those objects we need ref variable(self) which is also pointing to the same object we created\n",
    "'''\n",
    "class test:\n",
    "    def __init__(self):\n",
    "        print(f'self address: {id(self)}')\n",
    "s1=test()\n",
    "print(f's1 address: {id(s1)}')\n",
    "s2=test()\n",
    "print(f's2 address: {id(s2)}')"
   ]
  },
  {
   "cell_type": "code",
   "execution_count": null,
   "metadata": {},
   "outputs": [],
   "source": []
  }
 ]
}